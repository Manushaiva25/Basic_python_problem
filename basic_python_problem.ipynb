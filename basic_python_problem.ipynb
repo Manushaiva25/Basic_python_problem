{
 "cells": [
  {
   "cell_type": "code",
   "execution_count": 7,
   "id": "043d0052",
   "metadata": {},
   "outputs": [
    {
     "name": "stdout",
     "output_type": "stream",
     "text": [
      "False\n"
     ]
    }
   ],
   "source": [
    "# Problem statement:\n",
    "# 1) Write a Python function check_leap(year) such that given a year, determine whether it is a leap year. If it is a leap year, return the Boolean True, otherwise return False\n",
    "\n",
    "def check_leap(year):\n",
    "    if (year % 4 == 0 and year % 100 != 0) or (year % 400 == 0):\n",
    "        return True\n",
    "    else:\n",
    "        return False\n",
    "year = 1990\n",
    "result = check_leap(year)\n",
    "print(result)"
   ]
  },
  {
   "cell_type": "code",
   "execution_count": 2,
   "id": "6ddf23ba",
   "metadata": {},
   "outputs": [
    {
     "name": "stdout",
     "output_type": "stream",
     "text": [
      "String: MANU\n",
      "MN\n"
     ]
    }
   ],
   "source": [
    "# 2.Problem statement: Write a Python function vowels() to remove all vowels pre sent in a stringFor any input string, we must check whether the string contains vowels or not, if it does then remove the vowels and print the output.\n",
    "\n",
    "def removeVowels(string):\n",
    "    remove_str = ''.join([x for x in string if x.lower() and x.upper() not in 'aeiouAEIOU'])\n",
    "    print(remove_str)\n",
    "string = input('String: ')\n",
    "removeVowels(string)"
   ]
  },
  {
   "cell_type": "code",
   "execution_count": 3,
   "id": "aa854e38",
   "metadata": {},
   "outputs": [
    {
     "name": "stdout",
     "output_type": "stream",
     "text": [
      "Enter a string: 1manu34@#$%&\n",
      "Number of Alphabets: 4\n",
      "Number of Digits: 3\n",
      "Number of Special Characters: 5\n"
     ]
    }
   ],
   "source": [
    "# 3. Problem statement: Write a Python program count_num(n) to count the number of alphabets, digits, and \n",
    "#special characters present in an input string from the user.\n",
    "# For any input string, we are going to print the number of alphabets (‘a’-‘z’  and ‘A’-‘Z’),\n",
    "# the number of digits(0-9), and the number of special characters present.\n",
    "\n",
    "def count_num(input_str):\n",
    "    num_alphabets = 0\n",
    "    num_digits = 0\n",
    "    num_special_chars = 0\n",
    "    for char in input_str:\n",
    "        if char.isalpha():\n",
    "            num_alphabets += 1\n",
    "        elif char.isdigit():\n",
    "            num_digits += 1\n",
    "        else:\n",
    "            num_special_chars += 1\n",
    "    print(\"Number of Alphabets:\", num_alphabets)\n",
    "    print(\"Number of Digits:\", num_digits)\n",
    "    print(\"Number of Special Characters:\", num_special_chars)\n",
    "user_input = input(\"Enter a string: \")\n",
    "count_num(user_input)"
   ]
  },
  {
   "cell_type": "code",
   "execution_count": null,
   "id": "27e05fdb",
   "metadata": {},
   "outputs": [],
   "source": []
  }
 ],
 "metadata": {
  "kernelspec": {
   "display_name": "Python 3 (ipykernel)",
   "language": "python",
   "name": "python3"
  },
  "language_info": {
   "codemirror_mode": {
    "name": "ipython",
    "version": 3
   },
   "file_extension": ".py",
   "mimetype": "text/x-python",
   "name": "python",
   "nbconvert_exporter": "python",
   "pygments_lexer": "ipython3",
   "version": "3.10.9"
  }
 },
 "nbformat": 4,
 "nbformat_minor": 5
}
